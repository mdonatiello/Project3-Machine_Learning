{
 "cells": [
  {
   "cell_type": "code",
   "execution_count": 1,
   "metadata": {
    "slideshow": {
     "slide_type": "subslide"
    }
   },
   "outputs": [],
   "source": [
    "%matplotlib inline\n",
    "import matplotlib.pyplot as plt\n",
    "import pandas as pd\n",
    "import numpy as np\n",
    "import os"
   ]
  },
  {
   "cell_type": "markdown",
   "metadata": {},
   "source": [
    "# Flight\n",
    "The dataset consists of flight data from 2009 through 2018 obtained from the Bureau of Transportation Statistics\n",
    "(https://www.bts.gov/topics/airlines-and-airports-0) \n",
    "\n",
    "## Original Dataset\n",
    "The following flight data columns are within the CSV:\n",
    "\n",
    "* ID = primary key\n",
    "* Ncode = airline code\n",
    "* Year = Years used range from 2009 through 2018\n",
    "* Month\n",
    "* DOM_Flights = Domestic Flight\n",
    "* INT_Flights = International Flight\n",
    "* TOT_Flights = Total Flights\n",
    "* DOM_Passengers = Domestic Passengers\n",
    "* INT_Passengers = Internation Passengers\n",
    "* TOT_Passengers = Total Passengers\n",
    "* arr_flights = arriving flights\n",
    "* arr_del15 = arriving delays (column O)\n",
    "    * Negative times represent early departures/arrivals in minutes\n",
    "    * total of carrier_ct, weather_ct, nas_ct, security_ct, late_aircraft_ct \n",
    "    * ie, sum of columns P through T = O\n",
    "* carrier_ct = carrier count\n",
    "* weather_ct = weather count\n",
    "* nas_ct = National Airspace Security count\n",
    "* security_ct = Security count\n",
    "* late_aircraft_ct = late aircraft count\n",
    "* arr_cancelled = arrivals cancelled\n",
    "* arr_diverted = arrivals diverted\n",
    "* arr_delay = arrival delay (column W) \n",
    "    * total of carrier_delay, weather_delay, nas_delay, security_delay and late_aircraft_delay \n",
    "    * ie, sum of X through AB\n",
    "* carrier_delay = carrier delayed\n",
    "* weather_delay = weather delay \n",
    "* nas_delay = National Airspace Security delay\n",
    "* security_delay = Security delay\n",
    "* late_aircraft_delay = Late aircraft delay\n",
    "\n",
    "## Finalized Train / Test Dataset \n",
    "The following flight data columns were kept and used for our final CSV columns:\n",
    "* Ncode\n",
    "    * AA = American Airlines = 1\n",
    "    * DL = Delta Airlines = 2\n",
    "    * B6 = Jetblue Airways = 3\n",
    "    * WN = Southwest Airlines = 4\n",
    "    * UA = United Air Lines = 5\n",
    "* Year\n",
    "* Month = Months were converted to integers 1 - 12  \n",
    "* Difference = Total_Flights from same month next year - Total_Flights from previous same month year \n",
    "* carrier_delay \n",
    "* weather_delay\n",
    "* nas_delay \n",
    "* security_delay \n",
    "* late_aircraft_delay \n",
    "* inc-dec = string representation of whether the # of passengers increased / decreased from previous year same month\n"
   ]
  },
  {
   "cell_type": "code",
   "execution_count": 2,
   "metadata": {
    "scrolled": true,
    "slideshow": {
     "slide_type": "fragment"
    }
   },
   "outputs": [
    {
     "data": {
      "text/html": [
       "<div>\n",
       "<style scoped>\n",
       "    .dataframe tbody tr th:only-of-type {\n",
       "        vertical-align: middle;\n",
       "    }\n",
       "\n",
       "    .dataframe tbody tr th {\n",
       "        vertical-align: top;\n",
       "    }\n",
       "\n",
       "    .dataframe thead th {\n",
       "        text-align: right;\n",
       "    }\n",
       "</style>\n",
       "<table border=\"1\" class=\"dataframe\">\n",
       "  <thead>\n",
       "    <tr style=\"text-align: right;\">\n",
       "      <th></th>\n",
       "      <th>NCode</th>\n",
       "      <th>Year</th>\n",
       "      <th>Month</th>\n",
       "      <th>difference</th>\n",
       "      <th>Carrier_delay</th>\n",
       "      <th>Weather_delay</th>\n",
       "      <th>NAS_delay</th>\n",
       "      <th>Security_delay</th>\n",
       "      <th>Late_aircraft_delay</th>\n",
       "      <th>inc_dec</th>\n",
       "    </tr>\n",
       "  </thead>\n",
       "  <tbody>\n",
       "    <tr>\n",
       "      <td>0</td>\n",
       "      <td>1</td>\n",
       "      <td>2010</td>\n",
       "      <td>1</td>\n",
       "      <td>1632</td>\n",
       "      <td>2074</td>\n",
       "      <td>314</td>\n",
       "      <td>1354</td>\n",
       "      <td>30</td>\n",
       "      <td>1569</td>\n",
       "      <td>Increase</td>\n",
       "    </tr>\n",
       "    <tr>\n",
       "      <td>1</td>\n",
       "      <td>1</td>\n",
       "      <td>2011</td>\n",
       "      <td>1</td>\n",
       "      <td>10816</td>\n",
       "      <td>1982</td>\n",
       "      <td>375</td>\n",
       "      <td>1269</td>\n",
       "      <td>1</td>\n",
       "      <td>1587</td>\n",
       "      <td>Increase</td>\n",
       "    </tr>\n",
       "    <tr>\n",
       "      <td>2</td>\n",
       "      <td>1</td>\n",
       "      <td>2012</td>\n",
       "      <td>1</td>\n",
       "      <td>63801</td>\n",
       "      <td>1663</td>\n",
       "      <td>205</td>\n",
       "      <td>1023</td>\n",
       "      <td>5</td>\n",
       "      <td>991</td>\n",
       "      <td>Increase</td>\n",
       "    </tr>\n",
       "    <tr>\n",
       "      <td>3</td>\n",
       "      <td>1</td>\n",
       "      <td>2013</td>\n",
       "      <td>1</td>\n",
       "      <td>207535</td>\n",
       "      <td>1792</td>\n",
       "      <td>281</td>\n",
       "      <td>1153</td>\n",
       "      <td>14</td>\n",
       "      <td>1963</td>\n",
       "      <td>Increase</td>\n",
       "    </tr>\n",
       "    <tr>\n",
       "      <td>4</td>\n",
       "      <td>1</td>\n",
       "      <td>2014</td>\n",
       "      <td>1</td>\n",
       "      <td>126907</td>\n",
       "      <td>2138</td>\n",
       "      <td>608</td>\n",
       "      <td>1098</td>\n",
       "      <td>1</td>\n",
       "      <td>2485</td>\n",
       "      <td>Increase</td>\n",
       "    </tr>\n",
       "  </tbody>\n",
       "</table>\n",
       "</div>"
      ],
      "text/plain": [
       "   NCode  Year  Month  difference  Carrier_delay  Weather_delay  NAS_delay  \\\n",
       "0      1  2010      1        1632           2074            314       1354   \n",
       "1      1  2011      1       10816           1982            375       1269   \n",
       "2      1  2012      1       63801           1663            205       1023   \n",
       "3      1  2013      1      207535           1792            281       1153   \n",
       "4      1  2014      1      126907           2138            608       1098   \n",
       "\n",
       "   Security_delay  Late_aircraft_delay   inc_dec  \n",
       "0              30                 1569  Increase  \n",
       "1               1                 1587  Increase  \n",
       "2               5                  991  Increase  \n",
       "3              14                 1963  Increase  \n",
       "4               1                 2485  Increase  "
      ]
     },
     "execution_count": 2,
     "metadata": {},
     "output_type": "execute_result"
    }
   ],
   "source": [
    "flight = pd.read_csv(os.path.join('Resources', 'Regression_Final_Table.csv'))\n",
    "flight.head()"
   ]
  },
  {
   "cell_type": "code",
   "execution_count": 3,
   "metadata": {},
   "outputs": [],
   "source": [
    "flight = flight.dropna()"
   ]
  },
  {
   "cell_type": "code",
   "execution_count": 4,
   "metadata": {
    "nbgrader": {
     "grade": false,
     "grade_id": "cell-86a9e3212f200d21",
     "locked": false,
     "schema_version": 1,
     "solution": true
    },
    "scrolled": true,
    "slideshow": {
     "slide_type": "subslide"
    }
   },
   "outputs": [
    {
     "name": "stdout",
     "output_type": "stream",
     "text": [
      "(540, 9) (540,)\n"
     ]
    }
   ],
   "source": [
    "# Assign X (data) and y (target)\n",
    "X = flight.drop(\"inc_dec\", axis=1)\n",
    "y = flight[\"inc_dec\"]\n",
    "print(X.shape, y.shape)"
   ]
  },
  {
   "cell_type": "markdown",
   "metadata": {
    "slideshow": {
     "slide_type": "subslide"
    }
   },
   "source": [
    "Split our data into training and testing"
   ]
  },
  {
   "cell_type": "code",
   "execution_count": 5,
   "metadata": {
    "nbgrader": {
     "grade": false,
     "grade_id": "cell-711a82d9b32c83ff",
     "locked": false,
     "schema_version": 1,
     "solution": true
    },
    "slideshow": {
     "slide_type": "fragment"
    }
   },
   "outputs": [],
   "source": [
    "from sklearn.model_selection import train_test_split\n",
    "\n",
    "X_train, X_test, y_train, y_test = train_test_split(X, y, random_state=1, stratify=y)"
   ]
  },
  {
   "cell_type": "code",
   "execution_count": 6,
   "metadata": {
    "nbgrader": {
     "grade": false,
     "grade_id": "cell-b83ce1d2dcf17fbd",
     "locked": false,
     "schema_version": 1,
     "solution": true
    },
    "slideshow": {
     "slide_type": "fragment"
    }
   },
   "outputs": [
    {
     "data": {
      "text/plain": [
       "LogisticRegression(C=1.0, class_weight=None, dual=False, fit_intercept=True,\n",
       "                   intercept_scaling=1, l1_ratio=None, max_iter=100,\n",
       "                   multi_class='warn', n_jobs=None, penalty='l2',\n",
       "                   random_state=None, solver='warn', tol=0.0001, verbose=0,\n",
       "                   warm_start=False)"
      ]
     },
     "execution_count": 6,
     "metadata": {},
     "output_type": "execute_result"
    }
   ],
   "source": [
    "from sklearn.linear_model import LogisticRegression\n",
    "from sklearn.preprocessing import StandardScaler\n",
    "classifier = LogisticRegression()\n",
    "classifier"
   ]
  },
  {
   "cell_type": "markdown",
   "metadata": {
    "slideshow": {
     "slide_type": "subslide"
    }
   },
   "source": [
    "Fit (train) or model using the training data"
   ]
  },
  {
   "cell_type": "code",
   "execution_count": 7,
   "metadata": {},
   "outputs": [],
   "source": [
    "scalar = StandardScaler().fit(X_train)\n",
    "X_train_scaled = scalar.transform(X_train)\n",
    "X_test_scaled = scalar.transform(X_test)"
   ]
  },
  {
   "cell_type": "code",
   "execution_count": 8,
   "metadata": {
    "nbgrader": {
     "grade": false,
     "grade_id": "cell-fa6356c0ca7e4ead",
     "locked": false,
     "schema_version": 1,
     "solution": true
    },
    "slideshow": {
     "slide_type": "fragment"
    }
   },
   "outputs": [
    {
     "name": "stderr",
     "output_type": "stream",
     "text": [
      "C:\\Users\\Rogue\\Anaconda3\\envs\\PythonData2019\\lib\\site-packages\\sklearn\\linear_model\\logistic.py:432: FutureWarning: Default solver will be changed to 'lbfgs' in 0.22. Specify a solver to silence this warning.\n",
      "  FutureWarning)\n"
     ]
    },
    {
     "data": {
      "text/plain": [
       "LogisticRegression(C=1.0, class_weight=None, dual=False, fit_intercept=True,\n",
       "                   intercept_scaling=1, l1_ratio=None, max_iter=100,\n",
       "                   multi_class='warn', n_jobs=None, penalty='l2',\n",
       "                   random_state=None, solver='warn', tol=0.0001, verbose=0,\n",
       "                   warm_start=False)"
      ]
     },
     "execution_count": 8,
     "metadata": {},
     "output_type": "execute_result"
    }
   ],
   "source": [
    "classifier.fit(X_train_scaled,y_train)"
   ]
  },
  {
   "cell_type": "markdown",
   "metadata": {
    "slideshow": {
     "slide_type": "subslide"
    }
   },
   "source": [
    "Validate the model using the test data"
   ]
  },
  {
   "cell_type": "code",
   "execution_count": 9,
   "metadata": {
    "nbgrader": {
     "grade": false,
     "grade_id": "cell-b00f331fda900e0a",
     "locked": false,
     "schema_version": 1,
     "solution": true
    },
    "slideshow": {
     "slide_type": "fragment"
    }
   },
   "outputs": [
    {
     "name": "stdout",
     "output_type": "stream",
     "text": [
      "Training Data Score: 0.9580246913580247\n",
      "Testing Data Score: 0.9481481481481482\n"
     ]
    }
   ],
   "source": [
    "print(f\"Training Data Score: {classifier.score(X_train_scaled, y_train)}\")\n",
    "print(f\"Testing Data Score: {classifier.score(X_test_scaled, y_test)}\")"
   ]
  },
  {
   "cell_type": "markdown",
   "metadata": {
    "slideshow": {
     "slide_type": "subslide"
    }
   },
   "source": [
    "Make predictions"
   ]
  },
  {
   "cell_type": "code",
   "execution_count": 10,
   "metadata": {
    "nbgrader": {
     "grade": false,
     "grade_id": "cell-f97eb3e97245187b",
     "locked": false,
     "schema_version": 1,
     "solution": true
    },
    "slideshow": {
     "slide_type": "fragment"
    }
   },
   "outputs": [
    {
     "name": "stdout",
     "output_type": "stream",
     "text": [
      "First 10 Predictions:   ['Increase' 'Increase' 'Increase' 'Increase' 'Increase' 'Increase'\n",
      " 'Increase' 'Increase' 'Increase' 'Increase']\n",
      "First 10 Actual labels: ['Increase', 'Increase', 'Increase', 'Increase', 'Increase', 'Increase', 'Increase', 'Increase', 'Increase', 'Increase']\n"
     ]
    }
   ],
   "source": [
    "predictions = classifier.predict(X_test)\n",
    "print(f\"First 10 Predictions:   {predictions[:10]}\")\n",
    "print(f\"First 10 Actual labels: {y_test[:10].tolist()}\")"
   ]
  },
  {
   "cell_type": "code",
   "execution_count": 11,
   "metadata": {},
   "outputs": [],
   "source": [
    "# pd.DataFrame({\"Prediction\": predictions, \"Actual\": y_test}).reset_index(drop=True)"
   ]
  },
  {
   "cell_type": "code",
   "execution_count": 12,
   "metadata": {},
   "outputs": [],
   "source": [
    "final = pd.DataFrame({\"Prediction\": predictions, \"Actual\": y_test}).reset_index(drop=True)"
   ]
  },
  {
   "cell_type": "code",
   "execution_count": 13,
   "metadata": {},
   "outputs": [
    {
     "data": {
      "text/plain": [
       "135"
      ]
     },
     "execution_count": 13,
     "metadata": {},
     "output_type": "execute_result"
    }
   ],
   "source": [
    "# Total rows for the final data\n",
    "len(final)"
   ]
  },
  {
   "cell_type": "code",
   "execution_count": 14,
   "metadata": {},
   "outputs": [],
   "source": [
    "final.to_csv('final.csv')"
   ]
  },
  {
   "cell_type": "code",
   "execution_count": 15,
   "metadata": {},
   "outputs": [
    {
     "name": "stdout",
     "output_type": "stream",
     "text": [
      "First 10 Predictions:   ['Increase' 'Increase' 'Increase' 'Increase' 'Increase' 'Decrease'\n",
      " 'Increase' 'Increase' 'Increase' 'Increase' 'Increase' 'Decrease'\n",
      " 'Increase' 'Increase' 'Increase' 'Increase' 'Increase' 'Increase'\n",
      " 'Increase' 'Increase' 'Increase' 'Increase' 'Increase' 'Decrease'\n",
      " 'Increase' 'Decrease' 'Decrease' 'Increase' 'Increase' 'Increase'\n",
      " 'Increase' 'Increase' 'Increase' 'Increase' 'Increase' 'Increase'\n",
      " 'Increase' 'Increase' 'Increase' 'Increase' 'Increase' 'Increase'\n",
      " 'Decrease' 'Increase' 'Increase' 'Increase' 'Decrease' 'Increase'\n",
      " 'Increase' 'Increase' 'Increase' 'Increase' 'Increase' 'Decrease'\n",
      " 'Increase' 'Increase' 'Increase' 'Decrease' 'Increase' 'Decrease'\n",
      " 'Increase' 'Increase' 'Increase' 'Increase' 'Increase' 'Increase'\n",
      " 'Increase' 'Increase' 'Increase' 'Increase' 'Increase' 'Increase'\n",
      " 'Increase' 'Increase' 'Decrease' 'Increase' 'Increase' 'Increase'\n",
      " 'Increase' 'Increase' 'Increase' 'Decrease' 'Increase' 'Increase'\n",
      " 'Increase' 'Increase' 'Increase' 'Increase' 'Increase' 'Increase'\n",
      " 'Increase' 'Increase' 'Increase' 'Decrease' 'Increase' 'Decrease'\n",
      " 'Decrease' 'Increase' 'Increase' 'Increase']\n",
      "First 10 Actual labels: ['Increase', 'Increase', 'Increase', 'Increase', 'Increase', 'Decrease', 'Increase', 'Increase', 'Increase', 'Increase', 'Increase', 'Decrease', 'Increase', 'Increase', 'Increase', 'Increase', 'Increase', 'Increase', 'Increase', 'Increase', 'Increase', 'Increase', 'Increase', 'Decrease', 'Increase', 'Decrease', 'Decrease', 'Increase', 'Increase', 'Increase', 'Increase', 'Increase', 'Increase', 'Increase', 'Increase', 'Increase', 'Increase', 'Increase', 'Increase', 'Increase', 'Increase', 'Increase', 'Decrease', 'Increase', 'Increase', 'Increase', 'Decrease', 'Increase', 'Increase', 'Increase', 'Increase', 'Increase', 'Increase', 'Decrease', 'Increase', 'Increase', 'Increase', 'Decrease', 'Increase', 'Decrease', 'Increase', 'Increase', 'Increase', 'Increase', 'Increase', 'Increase', 'Increase', 'Increase', 'Increase', 'Increase', 'Increase', 'Increase', 'Increase', 'Increase', 'Decrease', 'Increase', 'Increase', 'Increase', 'Increase', 'Increase', 'Increase', 'Decrease', 'Increase', 'Increase', 'Increase', 'Increase', 'Increase', 'Increase', 'Increase', 'Increase', 'Increase', 'Increase', 'Increase', 'Decrease', 'Increase', 'Decrease', 'Decrease', 'Increase', 'Increase', 'Increase']\n"
     ]
    }
   ],
   "source": [
    "predictions_train = classifier.predict(X_train)\n",
    "print(f\"First 10 Predictions:   {predictions_train[:100]}\")\n",
    "print(f\"First 10 Actual labels: {y_train[:100].tolist()}\")"
   ]
  },
  {
   "cell_type": "code",
   "execution_count": 16,
   "metadata": {
    "scrolled": true
   },
   "outputs": [
    {
     "data": {
      "text/html": [
       "<div>\n",
       "<style scoped>\n",
       "    .dataframe tbody tr th:only-of-type {\n",
       "        vertical-align: middle;\n",
       "    }\n",
       "\n",
       "    .dataframe tbody tr th {\n",
       "        vertical-align: top;\n",
       "    }\n",
       "\n",
       "    .dataframe thead th {\n",
       "        text-align: right;\n",
       "    }\n",
       "</style>\n",
       "<table border=\"1\" class=\"dataframe\">\n",
       "  <thead>\n",
       "    <tr style=\"text-align: right;\">\n",
       "      <th></th>\n",
       "      <th>NCode</th>\n",
       "      <th>Year</th>\n",
       "      <th>Month</th>\n",
       "      <th>difference</th>\n",
       "      <th>Carrier_delay</th>\n",
       "      <th>Weather_delay</th>\n",
       "      <th>NAS_delay</th>\n",
       "      <th>Security_delay</th>\n",
       "      <th>Late_aircraft_delay</th>\n",
       "      <th>inc_dec</th>\n",
       "    </tr>\n",
       "  </thead>\n",
       "  <tbody>\n",
       "    <tr>\n",
       "      <td>0</td>\n",
       "      <td>1</td>\n",
       "      <td>2018</td>\n",
       "      <td>1</td>\n",
       "      <td>213038</td>\n",
       "      <td>2656</td>\n",
       "      <td>388</td>\n",
       "      <td>1576</td>\n",
       "      <td>12</td>\n",
       "      <td>2409</td>\n",
       "      <td>Increase</td>\n",
       "    </tr>\n",
       "    <tr>\n",
       "      <td>1</td>\n",
       "      <td>1</td>\n",
       "      <td>2018</td>\n",
       "      <td>2</td>\n",
       "      <td>543299</td>\n",
       "      <td>2319</td>\n",
       "      <td>379</td>\n",
       "      <td>2051</td>\n",
       "      <td>8</td>\n",
       "      <td>2583</td>\n",
       "      <td>Increase</td>\n",
       "    </tr>\n",
       "    <tr>\n",
       "      <td>2</td>\n",
       "      <td>1</td>\n",
       "      <td>2018</td>\n",
       "      <td>3</td>\n",
       "      <td>331307</td>\n",
       "      <td>2564</td>\n",
       "      <td>185</td>\n",
       "      <td>1290</td>\n",
       "      <td>15</td>\n",
       "      <td>2376</td>\n",
       "      <td>Increase</td>\n",
       "    </tr>\n",
       "    <tr>\n",
       "      <td>3</td>\n",
       "      <td>1</td>\n",
       "      <td>2018</td>\n",
       "      <td>4</td>\n",
       "      <td>181855</td>\n",
       "      <td>2471</td>\n",
       "      <td>296</td>\n",
       "      <td>1620</td>\n",
       "      <td>8</td>\n",
       "      <td>2472</td>\n",
       "      <td>Increase</td>\n",
       "    </tr>\n",
       "    <tr>\n",
       "      <td>4</td>\n",
       "      <td>1</td>\n",
       "      <td>2018</td>\n",
       "      <td>5</td>\n",
       "      <td>223494</td>\n",
       "      <td>3437</td>\n",
       "      <td>615</td>\n",
       "      <td>2628</td>\n",
       "      <td>8</td>\n",
       "      <td>4364</td>\n",
       "      <td>Increase</td>\n",
       "    </tr>\n",
       "  </tbody>\n",
       "</table>\n",
       "</div>"
      ],
      "text/plain": [
       "   NCode  Year  Month  difference  Carrier_delay  Weather_delay  NAS_delay  \\\n",
       "0      1  2018      1      213038           2656            388       1576   \n",
       "1      1  2018      2      543299           2319            379       2051   \n",
       "2      1  2018      3      331307           2564            185       1290   \n",
       "3      1  2018      4      181855           2471            296       1620   \n",
       "4      1  2018      5      223494           3437            615       2628   \n",
       "\n",
       "   Security_delay  Late_aircraft_delay   inc_dec  \n",
       "0              12                 2409  Increase  \n",
       "1               8                 2583  Increase  \n",
       "2              15                 2376  Increase  \n",
       "3               8                 2472  Increase  \n",
       "4               8                 4364  Increase  "
      ]
     },
     "execution_count": 16,
     "metadata": {},
     "output_type": "execute_result"
    }
   ],
   "source": [
    "# Testing our pedictions_train \n",
    "future_data = pd.read_csv(os.path.join('Resources', 'Regression_Test.csv'))\n",
    "future_data.head()                                   "
   ]
  },
  {
   "cell_type": "code",
   "execution_count": 17,
   "metadata": {},
   "outputs": [
    {
     "name": "stdout",
     "output_type": "stream",
     "text": [
      "(60, 9)\n"
     ]
    }
   ],
   "source": [
    "# Assign X (data) and y (target)\n",
    "X = future_data.drop(\"inc_dec\", axis=1)\n",
    "print(X.shape)"
   ]
  },
  {
   "cell_type": "code",
   "execution_count": 18,
   "metadata": {},
   "outputs": [],
   "source": [
    "X_future = scalar.transform(X)"
   ]
  },
  {
   "cell_type": "code",
   "execution_count": 24,
   "metadata": {},
   "outputs": [
    {
     "name": "stdout",
     "output_type": "stream",
     "text": [
      "First 8 Predictions: ['Increase' 'Increase' 'Increase' 'Increase' 'Increase' 'Increase'\n",
      " 'Increase' 'Increase' 'Increase' 'Increase']\n",
      "First 10 Predictions: ['Increase' 'Increase' 'Increase' 'Increase' 'Increase' 'Decrease'\n",
      " 'Increase' 'Increase' 'Increase' 'Increase']\n"
     ]
    }
   ],
   "source": [
    "future_data_predictions = classifier.predict(X_future)\n",
    "print(f\"First 8 Predictions: {future_data_predictions[:10]}\")\n",
    "print(f\"First 10 Predictions: {predictions_train[:10]}\")\n"
   ]
  },
  {
   "cell_type": "code",
   "execution_count": null,
   "metadata": {},
   "outputs": [],
   "source": []
  }
 ],
 "metadata": {
  "kernelspec": {
   "display_name": "Python 3",
   "language": "python",
   "name": "python3"
  },
  "language_info": {
   "codemirror_mode": {
    "name": "ipython",
    "version": 3
   },
   "file_extension": ".py",
   "mimetype": "text/x-python",
   "name": "python",
   "nbconvert_exporter": "python",
   "pygments_lexer": "ipython3",
   "version": "3.6.9"
  },
  "varInspector": {
   "cols": {
    "lenName": 16,
    "lenType": 16,
    "lenVar": 40
   },
   "kernels_config": {
    "python": {
     "delete_cmd_postfix": "",
     "delete_cmd_prefix": "del ",
     "library": "var_list.py",
     "varRefreshCmd": "print(var_dic_list())"
    },
    "r": {
     "delete_cmd_postfix": ") ",
     "delete_cmd_prefix": "rm(",
     "library": "var_list.r",
     "varRefreshCmd": "cat(var_dic_list()) "
    }
   },
   "types_to_exclude": [
    "module",
    "function",
    "builtin_function_or_method",
    "instance",
    "_Feature"
   ],
   "window_display": false
  }
 },
 "nbformat": 4,
 "nbformat_minor": 2
}
