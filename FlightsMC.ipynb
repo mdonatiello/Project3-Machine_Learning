{
 "cells": [
  {
   "cell_type": "code",
   "execution_count": 3,
   "metadata": {
    "slideshow": {
     "slide_type": "subslide"
    }
   },
   "outputs": [],
   "source": [
    "%matplotlib inline\n",
    "import matplotlib.pyplot as plt\n",
    "import pandas as pd\n",
    "import os"
   ]
  },
  {
   "cell_type": "code",
   "execution_count": 4,
   "metadata": {
    "slideshow": {
     "slide_type": "fragment"
    }
   },
   "outputs": [
    {
     "data": {
      "text/html": [
       "<div>\n",
       "<style scoped>\n",
       "    .dataframe tbody tr th:only-of-type {\n",
       "        vertical-align: middle;\n",
       "    }\n",
       "\n",
       "    .dataframe tbody tr th {\n",
       "        vertical-align: top;\n",
       "    }\n",
       "\n",
       "    .dataframe thead th {\n",
       "        text-align: right;\n",
       "    }\n",
       "</style>\n",
       "<table border=\"1\" class=\"dataframe\">\n",
       "  <thead>\n",
       "    <tr style=\"text-align: right;\">\n",
       "      <th></th>\n",
       "      <th>Airline</th>\n",
       "      <th>Year</th>\n",
       "      <th>Month</th>\n",
       "      <th>TOT_Flights</th>\n",
       "      <th>TOT_Passengers</th>\n",
       "      <th>Difference</th>\n",
       "      <th>arr_flights</th>\n",
       "      <th>arr_del15</th>\n",
       "      <th>carrier_ct</th>\n",
       "      <th>weather_ct</th>\n",
       "      <th>nas_ct</th>\n",
       "      <th>security_ct</th>\n",
       "      <th>late_aircraft_ct</th>\n",
       "      <th>arr_cancelled</th>\n",
       "      <th>arr_diverted</th>\n",
       "      <th>label</th>\n",
       "    </tr>\n",
       "  </thead>\n",
       "  <tbody>\n",
       "    <tr>\n",
       "      <td>0</td>\n",
       "      <td>101</td>\n",
       "      <td>2009</td>\n",
       "      <td>1</td>\n",
       "      <td>58249</td>\n",
       "      <td>6693592</td>\n",
       "      <td>0</td>\n",
       "      <td>612.04</td>\n",
       "      <td>127.27</td>\n",
       "      <td>35.60</td>\n",
       "      <td>12.71</td>\n",
       "      <td>44.55</td>\n",
       "      <td>0.09</td>\n",
       "      <td>34.31</td>\n",
       "      <td>21.38</td>\n",
       "      <td>1.50</td>\n",
       "      <td>Increase</td>\n",
       "    </tr>\n",
       "    <tr>\n",
       "      <td>1</td>\n",
       "      <td>101</td>\n",
       "      <td>2010</td>\n",
       "      <td>1</td>\n",
       "      <td>57387</td>\n",
       "      <td>6695224</td>\n",
       "      <td>1632</td>\n",
       "      <td>589.51</td>\n",
       "      <td>103.08</td>\n",
       "      <td>35.68</td>\n",
       "      <td>5.26</td>\n",
       "      <td>35.17</td>\n",
       "      <td>0.28</td>\n",
       "      <td>26.69</td>\n",
       "      <td>14.63</td>\n",
       "      <td>1.65</td>\n",
       "      <td>Increase</td>\n",
       "    </tr>\n",
       "    <tr>\n",
       "      <td>2</td>\n",
       "      <td>101</td>\n",
       "      <td>2011</td>\n",
       "      <td>1</td>\n",
       "      <td>57344</td>\n",
       "      <td>6706040</td>\n",
       "      <td>10816</td>\n",
       "      <td>591.68</td>\n",
       "      <td>98.90</td>\n",
       "      <td>34.88</td>\n",
       "      <td>6.12</td>\n",
       "      <td>31.13</td>\n",
       "      <td>0.01</td>\n",
       "      <td>26.75</td>\n",
       "      <td>19.10</td>\n",
       "      <td>1.26</td>\n",
       "      <td>Increase</td>\n",
       "    </tr>\n",
       "    <tr>\n",
       "      <td>3</td>\n",
       "      <td>101</td>\n",
       "      <td>2012</td>\n",
       "      <td>1</td>\n",
       "      <td>55706</td>\n",
       "      <td>6769841</td>\n",
       "      <td>63801</td>\n",
       "      <td>533.30</td>\n",
       "      <td>77.40</td>\n",
       "      <td>27.95</td>\n",
       "      <td>3.82</td>\n",
       "      <td>27.86</td>\n",
       "      <td>0.13</td>\n",
       "      <td>17.65</td>\n",
       "      <td>8.76</td>\n",
       "      <td>1.13</td>\n",
       "      <td>Increase</td>\n",
       "    </tr>\n",
       "    <tr>\n",
       "      <td>4</td>\n",
       "      <td>101</td>\n",
       "      <td>2013</td>\n",
       "      <td>1</td>\n",
       "      <td>56892</td>\n",
       "      <td>6977376</td>\n",
       "      <td>207535</td>\n",
       "      <td>546.93</td>\n",
       "      <td>101.11</td>\n",
       "      <td>32.02</td>\n",
       "      <td>4.04</td>\n",
       "      <td>31.33</td>\n",
       "      <td>0.19</td>\n",
       "      <td>33.53</td>\n",
       "      <td>10.52</td>\n",
       "      <td>1.15</td>\n",
       "      <td>Increase</td>\n",
       "    </tr>\n",
       "  </tbody>\n",
       "</table>\n",
       "</div>"
      ],
      "text/plain": [
       "   Airline  Year  Month  TOT_Flights  TOT_Passengers  Difference  arr_flights  \\\n",
       "0      101  2009      1        58249         6693592           0       612.04   \n",
       "1      101  2010      1        57387         6695224        1632       589.51   \n",
       "2      101  2011      1        57344         6706040       10816       591.68   \n",
       "3      101  2012      1        55706         6769841       63801       533.30   \n",
       "4      101  2013      1        56892         6977376      207535       546.93   \n",
       "\n",
       "   arr_del15  carrier_ct  weather_ct  nas_ct  security_ct  late_aircraft_ct  \\\n",
       "0     127.27       35.60       12.71   44.55         0.09             34.31   \n",
       "1     103.08       35.68        5.26   35.17         0.28             26.69   \n",
       "2      98.90       34.88        6.12   31.13         0.01             26.75   \n",
       "3      77.40       27.95        3.82   27.86         0.13             17.65   \n",
       "4     101.11       32.02        4.04   31.33         0.19             33.53   \n",
       "\n",
       "   arr_cancelled  arr_diverted     label  \n",
       "0          21.38          1.50  Increase  \n",
       "1          14.63          1.65  Increase  \n",
       "2          19.10          1.26  Increase  \n",
       "3           8.76          1.13  Increase  \n",
       "4          10.52          1.15  Increase  "
      ]
     },
     "execution_count": 4,
     "metadata": {},
     "output_type": "execute_result"
    }
   ],
   "source": [
    "#Load the dataset\n",
    "flight = pd.read_csv(os.path.join('..', 'Resources', 'CombinedPaxDelay3.csv'))\n",
    "flight.head()"
   ]
  },
  {
   "cell_type": "code",
   "execution_count": 5,
   "metadata": {
    "nbgrader": {
     "grade": false,
     "grade_id": "cell-86a9e3212f200d21",
     "locked": false,
     "schema_version": 1,
     "solution": true
    },
    "slideshow": {
     "slide_type": "subslide"
    }
   },
   "outputs": [
    {
     "name": "stdout",
     "output_type": "stream",
     "text": [
      "(542, 15) (542,)\n"
     ]
    }
   ],
   "source": [
    "# Assign X (data) and y (target)\n",
    "X = flight.drop(\"label\", axis=1)\n",
    "y = flight[\"label\"]\n",
    "print(X.shape, y.shape)"
   ]
  },
  {
   "cell_type": "markdown",
   "metadata": {
    "slideshow": {
     "slide_type": "subslide"
    }
   },
   "source": [
    "Split our data into training and testing"
   ]
  },
  {
   "cell_type": "code",
   "execution_count": 6,
   "metadata": {
    "nbgrader": {
     "grade": false,
     "grade_id": "cell-711a82d9b32c83ff",
     "locked": false,
     "schema_version": 1,
     "solution": true
    },
    "slideshow": {
     "slide_type": "fragment"
    }
   },
   "outputs": [],
   "source": [
    "from sklearn.model_selection import train_test_split\n",
    "\n",
    "X_train, X_test, y_train, y_test = train_test_split(X, y, shuffle = True, test_size=0.33, random_state=42, stratify=y)"
   ]
  },
  {
   "cell_type": "markdown",
   "metadata": {
    "slideshow": {
     "slide_type": "subslide"
    }
   },
   "source": [
    "Create a Logistic Regression Model"
   ]
  },
  {
   "cell_type": "code",
   "execution_count": 7,
   "metadata": {
    "nbgrader": {
     "grade": false,
     "grade_id": "cell-b83ce1d2dcf17fbd",
     "locked": false,
     "schema_version": 1,
     "solution": true
    },
    "slideshow": {
     "slide_type": "fragment"
    }
   },
   "outputs": [
    {
     "data": {
      "text/plain": [
       "LogisticRegression(C=1.0, class_weight=None, dual=False, fit_intercept=True,\n",
       "                   intercept_scaling=1, l1_ratio=None, max_iter=100,\n",
       "                   multi_class='warn', n_jobs=None, penalty='l2',\n",
       "                   random_state=None, solver='warn', tol=0.0001, verbose=0,\n",
       "                   warm_start=False)"
      ]
     },
     "execution_count": 7,
     "metadata": {},
     "output_type": "execute_result"
    }
   ],
   "source": [
    "from sklearn.linear_model import LogisticRegression\n",
    "classifier = LogisticRegression()\n",
    "classifier"
   ]
  },
  {
   "cell_type": "code",
   "execution_count": null,
   "metadata": {},
   "outputs": [],
   "source": [
    "#scalar = StandardScaler().fit(X_train)\n",
    "#X_train_scaled = scalar.transform(X_train)\n",
    "#X_test_scaled = scalar.transform(X_test)"
   ]
  },
  {
   "cell_type": "markdown",
   "metadata": {
    "slideshow": {
     "slide_type": "subslide"
    }
   },
   "source": [
    "Fit (train) or model using the training data"
   ]
  },
  {
   "cell_type": "code",
   "execution_count": 8,
   "metadata": {
    "nbgrader": {
     "grade": false,
     "grade_id": "cell-fa6356c0ca7e4ead",
     "locked": false,
     "schema_version": 1,
     "solution": true
    },
    "slideshow": {
     "slide_type": "fragment"
    }
   },
   "outputs": [
    {
     "name": "stderr",
     "output_type": "stream",
     "text": [
      "C:\\Users\\mcala\\Anaconda3\\envs\\tensorflow_env\\lib\\site-packages\\sklearn\\linear_model\\logistic.py:432: FutureWarning: Default solver will be changed to 'lbfgs' in 0.22. Specify a solver to silence this warning.\n",
      "  FutureWarning)\n"
     ]
    },
    {
     "data": {
      "text/plain": [
       "LogisticRegression(C=1.0, class_weight=None, dual=False, fit_intercept=True,\n",
       "                   intercept_scaling=1, l1_ratio=None, max_iter=100,\n",
       "                   multi_class='warn', n_jobs=None, penalty='l2',\n",
       "                   random_state=None, solver='warn', tol=0.0001, verbose=0,\n",
       "                   warm_start=False)"
      ]
     },
     "execution_count": 8,
     "metadata": {},
     "output_type": "execute_result"
    }
   ],
   "source": [
    "classifier.fit(X_train, y_train)"
   ]
  },
  {
   "cell_type": "markdown",
   "metadata": {
    "slideshow": {
     "slide_type": "subslide"
    }
   },
   "source": [
    "Validate the model using the test data"
   ]
  },
  {
   "cell_type": "code",
   "execution_count": 9,
   "metadata": {
    "nbgrader": {
     "grade": false,
     "grade_id": "cell-b00f331fda900e0a",
     "locked": false,
     "schema_version": 1,
     "solution": true
    },
    "slideshow": {
     "slide_type": "fragment"
    }
   },
   "outputs": [
    {
     "name": "stdout",
     "output_type": "stream",
     "text": [
      "Training Data Score: 0.9449035812672176\n",
      "Testing Data Score: 0.9497206703910615\n"
     ]
    }
   ],
   "source": [
    "print(f\"Training Data Score: {classifier.score(X_train, y_train)}\")\n",
    "print(f\"Testing Data Score: {classifier.score(X_test, y_test)}\")"
   ]
  },
  {
   "cell_type": "markdown",
   "metadata": {
    "slideshow": {
     "slide_type": "subslide"
    }
   },
   "source": [
    "Make predictions"
   ]
  },
  {
   "cell_type": "code",
   "execution_count": 10,
   "metadata": {
    "nbgrader": {
     "grade": false,
     "grade_id": "cell-f97eb3e97245187b",
     "locked": false,
     "schema_version": 1,
     "solution": true
    },
    "slideshow": {
     "slide_type": "fragment"
    }
   },
   "outputs": [
    {
     "name": "stdout",
     "output_type": "stream",
     "text": [
      "First 20 Predictions:   ['Increase' 'Increase' 'Increase' 'Increase' 'Increase' 'Increase'\n",
      " 'Increase' 'Increase' 'Decrease' 'Increase' 'Increase' 'Increase'\n",
      " 'Increase' 'Increase' 'Increase' 'Decrease' 'Increase' 'Increase'\n",
      " 'Increase' 'Increase']\n",
      "First 20 Actual labels: ['Increase', 'Increase', 'Increase', 'Increase', 'Increase', 'Increase', 'Increase', 'Decrease', 'Decrease', 'Increase', 'Increase', 'Increase', 'Increase', 'Increase', 'Increase', 'Decrease', 'Increase', 'Increase', 'Increase', 'Increase']\n"
     ]
    }
   ],
   "source": [
    "predictions = classifier.predict(X_test)\n",
    "print(f\"First 20 Predictions:   {predictions[:20]}\")\n",
    "print(f\"First 20 Actual labels: {y_test[:20].tolist()}\")"
   ]
  },
  {
   "cell_type": "code",
   "execution_count": 11,
   "metadata": {},
   "outputs": [
    {
     "data": {
      "text/html": [
       "<div>\n",
       "<style scoped>\n",
       "    .dataframe tbody tr th:only-of-type {\n",
       "        vertical-align: middle;\n",
       "    }\n",
       "\n",
       "    .dataframe tbody tr th {\n",
       "        vertical-align: top;\n",
       "    }\n",
       "\n",
       "    .dataframe thead th {\n",
       "        text-align: right;\n",
       "    }\n",
       "</style>\n",
       "<table border=\"1\" class=\"dataframe\">\n",
       "  <thead>\n",
       "    <tr style=\"text-align: right;\">\n",
       "      <th></th>\n",
       "      <th>Prediction</th>\n",
       "      <th>Actual</th>\n",
       "    </tr>\n",
       "  </thead>\n",
       "  <tbody>\n",
       "    <tr>\n",
       "      <td>0</td>\n",
       "      <td>Increase</td>\n",
       "      <td>Increase</td>\n",
       "    </tr>\n",
       "    <tr>\n",
       "      <td>1</td>\n",
       "      <td>Increase</td>\n",
       "      <td>Increase</td>\n",
       "    </tr>\n",
       "    <tr>\n",
       "      <td>2</td>\n",
       "      <td>Increase</td>\n",
       "      <td>Increase</td>\n",
       "    </tr>\n",
       "    <tr>\n",
       "      <td>3</td>\n",
       "      <td>Increase</td>\n",
       "      <td>Increase</td>\n",
       "    </tr>\n",
       "    <tr>\n",
       "      <td>4</td>\n",
       "      <td>Increase</td>\n",
       "      <td>Increase</td>\n",
       "    </tr>\n",
       "  </tbody>\n",
       "</table>\n",
       "</div>"
      ],
      "text/plain": [
       "  Prediction    Actual\n",
       "0   Increase  Increase\n",
       "1   Increase  Increase\n",
       "2   Increase  Increase\n",
       "3   Increase  Increase\n",
       "4   Increase  Increase"
      ]
     },
     "execution_count": 11,
     "metadata": {},
     "output_type": "execute_result"
    }
   ],
   "source": [
    "df = pd.DataFrame({\"Prediction\": predictions, \"Actual\": y_test}).reset_index(drop=True)\n",
    "df.head()"
   ]
  },
  {
   "cell_type": "code",
   "execution_count": 12,
   "metadata": {},
   "outputs": [],
   "source": [
    "df.to_csv('results.csv')"
   ]
  },
  {
   "cell_type": "code",
   "execution_count": 13,
   "metadata": {},
   "outputs": [
    {
     "data": {
      "text/html": [
       "<div>\n",
       "<style scoped>\n",
       "    .dataframe tbody tr th:only-of-type {\n",
       "        vertical-align: middle;\n",
       "    }\n",
       "\n",
       "    .dataframe tbody tr th {\n",
       "        vertical-align: top;\n",
       "    }\n",
       "\n",
       "    .dataframe thead th {\n",
       "        text-align: right;\n",
       "    }\n",
       "</style>\n",
       "<table border=\"1\" class=\"dataframe\">\n",
       "  <thead>\n",
       "    <tr style=\"text-align: right;\">\n",
       "      <th></th>\n",
       "      <th>Airline</th>\n",
       "      <th>Year</th>\n",
       "      <th>Month</th>\n",
       "      <th>TOT_Flights</th>\n",
       "      <th>TOT_Passengers</th>\n",
       "      <th>Difference</th>\n",
       "      <th>arr_flights</th>\n",
       "      <th>arr_del15</th>\n",
       "      <th>carrier_ct</th>\n",
       "      <th>weather_ct</th>\n",
       "      <th>nas_ct</th>\n",
       "      <th>security_ct</th>\n",
       "      <th>late_aircraft_ct</th>\n",
       "      <th>arr_cancelled</th>\n",
       "      <th>arr_diverted</th>\n",
       "    </tr>\n",
       "  </thead>\n",
       "  <tbody>\n",
       "    <tr>\n",
       "      <td>0</td>\n",
       "      <td>103</td>\n",
       "      <td>2018</td>\n",
       "      <td>1</td>\n",
       "      <td>28647</td>\n",
       "      <td>3162299</td>\n",
       "      <td>-124316</td>\n",
       "      <td>388.61</td>\n",
       "      <td>84.72</td>\n",
       "      <td>39.43</td>\n",
       "      <td>2.09</td>\n",
       "      <td>26.44</td>\n",
       "      <td>0.31</td>\n",
       "      <td>40.69</td>\n",
       "      <td>22.98</td>\n",
       "      <td>1.09</td>\n",
       "    </tr>\n",
       "    <tr>\n",
       "      <td>1</td>\n",
       "      <td>103</td>\n",
       "      <td>2018</td>\n",
       "      <td>2</td>\n",
       "      <td>27333</td>\n",
       "      <td>3078400</td>\n",
       "      <td>147361</td>\n",
       "      <td>356.98</td>\n",
       "      <td>84.72</td>\n",
       "      <td>30.83</td>\n",
       "      <td>0.54</td>\n",
       "      <td>24.20</td>\n",
       "      <td>0.17</td>\n",
       "      <td>28.28</td>\n",
       "      <td>5.59</td>\n",
       "      <td>1.08</td>\n",
       "    </tr>\n",
       "    <tr>\n",
       "      <td>2</td>\n",
       "      <td>103</td>\n",
       "      <td>2018</td>\n",
       "      <td>3</td>\n",
       "      <td>30278</td>\n",
       "      <td>3655332</td>\n",
       "      <td>176106</td>\n",
       "      <td>414.06</td>\n",
       "      <td>84.72</td>\n",
       "      <td>43.36</td>\n",
       "      <td>1.50</td>\n",
       "      <td>30.68</td>\n",
       "      <td>0.43</td>\n",
       "      <td>44.77</td>\n",
       "      <td>26.61</td>\n",
       "      <td>0.88</td>\n",
       "    </tr>\n",
       "    <tr>\n",
       "      <td>3</td>\n",
       "      <td>103</td>\n",
       "      <td>2018</td>\n",
       "      <td>4</td>\n",
       "      <td>30971</td>\n",
       "      <td>3613440</td>\n",
       "      <td>160642</td>\n",
       "      <td>403.69</td>\n",
       "      <td>84.72</td>\n",
       "      <td>39.94</td>\n",
       "      <td>1.65</td>\n",
       "      <td>34.72</td>\n",
       "      <td>0.24</td>\n",
       "      <td>47.50</td>\n",
       "      <td>5.17</td>\n",
       "      <td>1.42</td>\n",
       "    </tr>\n",
       "    <tr>\n",
       "      <td>4</td>\n",
       "      <td>103</td>\n",
       "      <td>2018</td>\n",
       "      <td>5</td>\n",
       "      <td>31533</td>\n",
       "      <td>3648011</td>\n",
       "      <td>247395</td>\n",
       "      <td>384.25</td>\n",
       "      <td>84.72</td>\n",
       "      <td>36.10</td>\n",
       "      <td>1.24</td>\n",
       "      <td>29.78</td>\n",
       "      <td>0.23</td>\n",
       "      <td>38.00</td>\n",
       "      <td>4.78</td>\n",
       "      <td>1.29</td>\n",
       "    </tr>\n",
       "  </tbody>\n",
       "</table>\n",
       "</div>"
      ],
      "text/plain": [
       "   Airline  Year  Month  TOT_Flights  TOT_Passengers  Difference  arr_flights  \\\n",
       "0      103  2018      1        28647         3162299     -124316       388.61   \n",
       "1      103  2018      2        27333         3078400      147361       356.98   \n",
       "2      103  2018      3        30278         3655332      176106       414.06   \n",
       "3      103  2018      4        30971         3613440      160642       403.69   \n",
       "4      103  2018      5        31533         3648011      247395       384.25   \n",
       "\n",
       "   arr_del15  carrier_ct  weather_ct  nas_ct  security_ct  late_aircraft_ct  \\\n",
       "0      84.72       39.43        2.09   26.44         0.31             40.69   \n",
       "1      84.72       30.83        0.54   24.20         0.17             28.28   \n",
       "2      84.72       43.36        1.50   30.68         0.43             44.77   \n",
       "3      84.72       39.94        1.65   34.72         0.24             47.50   \n",
       "4      84.72       36.10        1.24   29.78         0.23             38.00   \n",
       "\n",
       "   arr_cancelled  arr_diverted  \n",
       "0          22.98          1.09  \n",
       "1           5.59          1.08  \n",
       "2          26.61          0.88  \n",
       "3           5.17          1.42  \n",
       "4           4.78          1.29  "
      ]
     },
     "execution_count": 13,
     "metadata": {},
     "output_type": "execute_result"
    }
   ],
   "source": [
    "#Load the 2019 dataset \n",
    "fl2019 = pd.read_csv(os.path.join('..', 'Resources', 'ForPred2018.csv'))\n",
    "fl2019.head()"
   ]
  },
  {
   "cell_type": "code",
   "execution_count": 15,
   "metadata": {},
   "outputs": [
    {
     "name": "stdout",
     "output_type": "stream",
     "text": [
      "First 8 Predictions:   ['Decrease' 'Increase' 'Increase' 'Increase' 'Increase' 'Increase'\n",
      " 'Increase' 'Increase']\n"
     ]
    }
   ],
   "source": [
    "predictions2019 = classifier.predict(fl2019)\n",
    "print(f\"First 8 Predictions:   {predictions2019[:8]}\")\n",
    "#print(f\"First 8 Actual labels: {y_test[:8].tolist()}\")"
   ]
  }
 ],
 "metadata": {
  "kernelspec": {
   "display_name": "Python 3",
   "language": "python",
   "name": "python3"
  },
  "language_info": {
   "codemirror_mode": {
    "name": "ipython",
    "version": 3
   },
   "file_extension": ".py",
   "mimetype": "text/x-python",
   "name": "python",
   "nbconvert_exporter": "python",
   "pygments_lexer": "ipython3",
   "version": "3.7.4"
  },
  "varInspector": {
   "cols": {
    "lenName": 16,
    "lenType": 16,
    "lenVar": 40
   },
   "kernels_config": {
    "python": {
     "delete_cmd_postfix": "",
     "delete_cmd_prefix": "del ",
     "library": "var_list.py",
     "varRefreshCmd": "print(var_dic_list())"
    },
    "r": {
     "delete_cmd_postfix": ") ",
     "delete_cmd_prefix": "rm(",
     "library": "var_list.r",
     "varRefreshCmd": "cat(var_dic_list()) "
    }
   },
   "types_to_exclude": [
    "module",
    "function",
    "builtin_function_or_method",
    "instance",
    "_Feature"
   ],
   "window_display": false
  }
 },
 "nbformat": 4,
 "nbformat_minor": 2
}
