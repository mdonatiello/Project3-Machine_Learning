{
 "cells": [
  {
   "cell_type": "code",
   "execution_count": 1,
   "metadata": {
    "slideshow": {
     "slide_type": "subslide"
    }
   },
   "outputs": [],
   "source": [
    "%matplotlib inline\n",
    "import matplotlib.pyplot as plt\n",
    "import pandas as pd\n",
    "import numpy as np\n",
    "import os"
   ]
  },
  {
   "cell_type": "markdown",
   "metadata": {},
   "source": [
    "# Flight\n",
    "The dataset consists of flight data from 2009 through 2018 obtained from the Bureau of Transportation Statistics\n",
    "(https://www.bts.gov/topics/airlines-and-airports-0) \n",
    "\n",
    "## Original Dataset\n",
    "The following flight data columns are within the CSV:\n",
    "\n",
    "* code\n",
    "* Year = Years used range from 2009 through 2018\n",
    "* Month\n",
    "* DOM_Flights = Domestic Flight\n",
    "* INT_Flights = International Flight\n",
    "* TOT_Flights = Total Flights\n",
    "* DOM_Passengers = Domestic Passengers\n",
    "* INT_Passengers = Internation Passengers\n",
    "* TOT_Passengers = Total Passengers\n",
    "* arr_flights = arriving flights\n",
    "* arr_del15 = arriving delays (column O)\n",
    "    * Negative times represent early departures/arrivals in minutes\n",
    "    * total of carrier_ct, weather_ct, nas_ct, security_ct, late_aircraft_ct \n",
    "    * ie, sum of columns P through T = O\n",
    "* carrier_ct = carrier count\n",
    "* weather_ct = weather count\n",
    "* nas_ct = National Airspace Security count\n",
    "* security_ct = Security count\n",
    "* late_aircraft_ct = late aircraft count\n",
    "* arr_cancelled = arrivals cancelled\n",
    "* arr_diverted = arrivals diverted\n",
    "* arr_delay = arrival delay (column W) \n",
    "    * total of carrier_delay, weather_delay, nas_delay, security_delay and late_aircraft_delay \n",
    "    * ie, sum of X through AB\n",
    "* carrier_delay = carrier delayed\n",
    "* weather_delay = weather delay \n",
    "* nas_delay = National Airspace Security delay\n",
    "* security_delay = Security delay\n",
    "* late_aircraft_delay = Late aircraft delay\n",
    "\n",
    "## Finalized Train / Test Dataset \n",
    "The following flight data columns were kept and used for our final CSV columns:\n",
    "* code\n",
    "    * AA = American Airlines = 1\n",
    "    * DL = Delta Airlines = 2\n",
    "    * B6 = Jetblue Airways = 3\n",
    "    * WN = Southwest Airlines = 4\n",
    "    * UA = United Air Lines = 5\n",
    "* Year\n",
    "* Month = Months were converted to integers 1 - 12  \n",
    "* Difference = Total_Flights from same month next year - Total_Flights from previous same month year\n",
    "* carrier_delay \n",
    "* weather_delay\n",
    "* nas_delay \n",
    "* security_delay \n",
    "* late_aircraft_delay \n",
    "* Inc-Dec = string representation of whether the # of passengers increased / decreased from previous year same month\n"
   ]
  },
  {
   "cell_type": "code",
   "execution_count": 2,
   "metadata": {
    "slideshow": {
     "slide_type": "fragment"
    }
   },
   "outputs": [
    {
     "data": {
      "text/html": [
       "<div>\n",
       "<style scoped>\n",
       "    .dataframe tbody tr th:only-of-type {\n",
       "        vertical-align: middle;\n",
       "    }\n",
       "\n",
       "    .dataframe tbody tr th {\n",
       "        vertical-align: top;\n",
       "    }\n",
       "\n",
       "    .dataframe thead th {\n",
       "        text-align: right;\n",
       "    }\n",
       "</style>\n",
       "<table border=\"1\" class=\"dataframe\">\n",
       "  <thead>\n",
       "    <tr style=\"text-align: right;\">\n",
       "      <th></th>\n",
       "      <th>code</th>\n",
       "      <th>Year</th>\n",
       "      <th>Month</th>\n",
       "      <th>DOM_Flights</th>\n",
       "      <th>INT_Flights</th>\n",
       "      <th>DOM_Passengers</th>\n",
       "      <th>INT_Passengers</th>\n",
       "      <th>Difference</th>\n",
       "      <th>arr_flights</th>\n",
       "      <th>arr_del15</th>\n",
       "      <th>...</th>\n",
       "      <th>security_ct</th>\n",
       "      <th>late_aircraft_ct</th>\n",
       "      <th>arr_cancelled</th>\n",
       "      <th>arr_diverted</th>\n",
       "      <th>carrier_delay</th>\n",
       "      <th>weather_delay</th>\n",
       "      <th>nas_delay</th>\n",
       "      <th>security_delay</th>\n",
       "      <th>late_aircraft_delay</th>\n",
       "      <th>Inc-Dec</th>\n",
       "    </tr>\n",
       "  </thead>\n",
       "  <tbody>\n",
       "    <tr>\n",
       "      <td>0</td>\n",
       "      <td>1</td>\n",
       "      <td>2009</td>\n",
       "      <td>1</td>\n",
       "      <td>46183</td>\n",
       "      <td>12066.0</td>\n",
       "      <td>5046794</td>\n",
       "      <td>1646798.0</td>\n",
       "      <td>0</td>\n",
       "      <td>612.04</td>\n",
       "      <td>127.27</td>\n",
       "      <td>...</td>\n",
       "      <td>0.09</td>\n",
       "      <td>34.31</td>\n",
       "      <td>21.38</td>\n",
       "      <td>1.50</td>\n",
       "      <td>2257.21</td>\n",
       "      <td>798.92</td>\n",
       "      <td>1947.49</td>\n",
       "      <td>3.12</td>\n",
       "      <td>2292.00</td>\n",
       "      <td>NotApplicable</td>\n",
       "    </tr>\n",
       "    <tr>\n",
       "      <td>1</td>\n",
       "      <td>1</td>\n",
       "      <td>2010</td>\n",
       "      <td>1</td>\n",
       "      <td>45545</td>\n",
       "      <td>11842.0</td>\n",
       "      <td>5071320</td>\n",
       "      <td>1623904.0</td>\n",
       "      <td>1632</td>\n",
       "      <td>589.51</td>\n",
       "      <td>103.08</td>\n",
       "      <td>...</td>\n",
       "      <td>0.28</td>\n",
       "      <td>26.69</td>\n",
       "      <td>14.63</td>\n",
       "      <td>1.65</td>\n",
       "      <td>2073.80</td>\n",
       "      <td>313.73</td>\n",
       "      <td>1354.34</td>\n",
       "      <td>30.00</td>\n",
       "      <td>1568.90</td>\n",
       "      <td>Increase</td>\n",
       "    </tr>\n",
       "    <tr>\n",
       "      <td>2</td>\n",
       "      <td>1</td>\n",
       "      <td>2011</td>\n",
       "      <td>1</td>\n",
       "      <td>44782</td>\n",
       "      <td>12562.0</td>\n",
       "      <td>4984095</td>\n",
       "      <td>1721945.0</td>\n",
       "      <td>10816</td>\n",
       "      <td>591.68</td>\n",
       "      <td>98.90</td>\n",
       "      <td>...</td>\n",
       "      <td>0.01</td>\n",
       "      <td>26.75</td>\n",
       "      <td>19.10</td>\n",
       "      <td>1.26</td>\n",
       "      <td>1981.55</td>\n",
       "      <td>374.72</td>\n",
       "      <td>1269.32</td>\n",
       "      <td>0.65</td>\n",
       "      <td>1586.72</td>\n",
       "      <td>Increase</td>\n",
       "    </tr>\n",
       "    <tr>\n",
       "      <td>3</td>\n",
       "      <td>1</td>\n",
       "      <td>2012</td>\n",
       "      <td>1</td>\n",
       "      <td>43139</td>\n",
       "      <td>12567.0</td>\n",
       "      <td>4997279</td>\n",
       "      <td>1772562.0</td>\n",
       "      <td>63801</td>\n",
       "      <td>533.30</td>\n",
       "      <td>77.40</td>\n",
       "      <td>...</td>\n",
       "      <td>0.13</td>\n",
       "      <td>17.65</td>\n",
       "      <td>8.76</td>\n",
       "      <td>1.13</td>\n",
       "      <td>1662.66</td>\n",
       "      <td>204.76</td>\n",
       "      <td>1023.33</td>\n",
       "      <td>4.85</td>\n",
       "      <td>990.61</td>\n",
       "      <td>Increase</td>\n",
       "    </tr>\n",
       "    <tr>\n",
       "      <td>4</td>\n",
       "      <td>1</td>\n",
       "      <td>2013</td>\n",
       "      <td>1</td>\n",
       "      <td>44107</td>\n",
       "      <td>12785.0</td>\n",
       "      <td>5195596</td>\n",
       "      <td>1781780.0</td>\n",
       "      <td>207535</td>\n",
       "      <td>546.93</td>\n",
       "      <td>101.11</td>\n",
       "      <td>...</td>\n",
       "      <td>0.19</td>\n",
       "      <td>33.53</td>\n",
       "      <td>10.52</td>\n",
       "      <td>1.15</td>\n",
       "      <td>1792.35</td>\n",
       "      <td>281.07</td>\n",
       "      <td>1152.56</td>\n",
       "      <td>13.63</td>\n",
       "      <td>1962.73</td>\n",
       "      <td>Increase</td>\n",
       "    </tr>\n",
       "  </tbody>\n",
       "</table>\n",
       "<p>5 rows × 23 columns</p>\n",
       "</div>"
      ],
      "text/plain": [
       "   code  Year  Month  DOM_Flights  INT_Flights  DOM_Passengers  \\\n",
       "0     1  2009      1        46183      12066.0         5046794   \n",
       "1     1  2010      1        45545      11842.0         5071320   \n",
       "2     1  2011      1        44782      12562.0         4984095   \n",
       "3     1  2012      1        43139      12567.0         4997279   \n",
       "4     1  2013      1        44107      12785.0         5195596   \n",
       "\n",
       "   INT_Passengers  Difference  arr_flights  arr_del15  ...  security_ct  \\\n",
       "0       1646798.0           0       612.04     127.27  ...         0.09   \n",
       "1       1623904.0        1632       589.51     103.08  ...         0.28   \n",
       "2       1721945.0       10816       591.68      98.90  ...         0.01   \n",
       "3       1772562.0       63801       533.30      77.40  ...         0.13   \n",
       "4       1781780.0      207535       546.93     101.11  ...         0.19   \n",
       "\n",
       "   late_aircraft_ct  arr_cancelled  arr_diverted  carrier_delay  \\\n",
       "0             34.31          21.38          1.50        2257.21   \n",
       "1             26.69          14.63          1.65        2073.80   \n",
       "2             26.75          19.10          1.26        1981.55   \n",
       "3             17.65           8.76          1.13        1662.66   \n",
       "4             33.53          10.52          1.15        1792.35   \n",
       "\n",
       "   weather_delay  nas_delay  security_delay  late_aircraft_delay  \\\n",
       "0         798.92    1947.49            3.12              2292.00   \n",
       "1         313.73    1354.34           30.00              1568.90   \n",
       "2         374.72    1269.32            0.65              1586.72   \n",
       "3         204.76    1023.33            4.85               990.61   \n",
       "4         281.07    1152.56           13.63              1962.73   \n",
       "\n",
       "         Inc-Dec  \n",
       "0  NotApplicable  \n",
       "1       Increase  \n",
       "2       Increase  \n",
       "3       Increase  \n",
       "4       Increase  \n",
       "\n",
       "[5 rows x 23 columns]"
      ]
     },
     "execution_count": 2,
     "metadata": {},
     "output_type": "execute_result"
    }
   ],
   "source": [
    "flight = pd.read_csv(os.path.join('Resources', 'combined2_TotalsRemoved.csv'))\n",
    "flight.head()"
   ]
  },
  {
   "cell_type": "code",
   "execution_count": 3,
   "metadata": {},
   "outputs": [],
   "source": [
    "flight = flight.dropna()"
   ]
  },
  {
   "cell_type": "code",
   "execution_count": 4,
   "metadata": {
    "nbgrader": {
     "grade": false,
     "grade_id": "cell-86a9e3212f200d21",
     "locked": false,
     "schema_version": 1,
     "solution": true
    },
    "scrolled": true,
    "slideshow": {
     "slide_type": "subslide"
    }
   },
   "outputs": [
    {
     "name": "stdout",
     "output_type": "stream",
     "text": [
      "(546, 22) (546,)\n"
     ]
    }
   ],
   "source": [
    "# Assign X (data) and y (target)\n",
    "X = flight.drop(\"Inc-Dec\", axis=1)\n",
    "y = flight[\"Inc-Dec\"]\n",
    "print(X.shape, y.shape)"
   ]
  },
  {
   "cell_type": "markdown",
   "metadata": {
    "slideshow": {
     "slide_type": "subslide"
    }
   },
   "source": [
    "Split our data into training and testing"
   ]
  },
  {
   "cell_type": "code",
   "execution_count": 5,
   "metadata": {
    "nbgrader": {
     "grade": false,
     "grade_id": "cell-711a82d9b32c83ff",
     "locked": false,
     "schema_version": 1,
     "solution": true
    },
    "slideshow": {
     "slide_type": "fragment"
    }
   },
   "outputs": [],
   "source": [
    "from sklearn.model_selection import train_test_split\n",
    "\n",
    "X_train, X_test, y_train, y_test = train_test_split(X, y, random_state=1, stratify=y)"
   ]
  },
  {
   "cell_type": "code",
   "execution_count": 6,
   "metadata": {
    "nbgrader": {
     "grade": false,
     "grade_id": "cell-b83ce1d2dcf17fbd",
     "locked": false,
     "schema_version": 1,
     "solution": true
    },
    "slideshow": {
     "slide_type": "fragment"
    }
   },
   "outputs": [
    {
     "data": {
      "text/plain": [
       "LogisticRegression(C=1.0, class_weight=None, dual=False, fit_intercept=True,\n",
       "                   intercept_scaling=1, l1_ratio=None, max_iter=100,\n",
       "                   multi_class='warn', n_jobs=None, penalty='l2',\n",
       "                   random_state=None, solver='warn', tol=0.0001, verbose=0,\n",
       "                   warm_start=False)"
      ]
     },
     "execution_count": 6,
     "metadata": {},
     "output_type": "execute_result"
    }
   ],
   "source": [
    "from sklearn.linear_model import LogisticRegression\n",
    "from sklearn.preprocessing import StandardScaler\n",
    "classifier = LogisticRegression()\n",
    "classifier"
   ]
  },
  {
   "cell_type": "markdown",
   "metadata": {
    "slideshow": {
     "slide_type": "subslide"
    }
   },
   "source": [
    "Fit (train) or model using the training data"
   ]
  },
  {
   "cell_type": "code",
   "execution_count": 7,
   "metadata": {},
   "outputs": [],
   "source": [
    "scalar = StandardScaler().fit(X_train)\n",
    "X_train_scaled = scalar.transform(X_train)\n",
    "X_test_scaled = scalar.transform(X_test)"
   ]
  },
  {
   "cell_type": "code",
   "execution_count": 8,
   "metadata": {
    "nbgrader": {
     "grade": false,
     "grade_id": "cell-fa6356c0ca7e4ead",
     "locked": false,
     "schema_version": 1,
     "solution": true
    },
    "slideshow": {
     "slide_type": "fragment"
    }
   },
   "outputs": [
    {
     "name": "stderr",
     "output_type": "stream",
     "text": [
      "C:\\Users\\Rogue\\Anaconda3\\envs\\PythonData2019\\lib\\site-packages\\sklearn\\linear_model\\logistic.py:432: FutureWarning: Default solver will be changed to 'lbfgs' in 0.22. Specify a solver to silence this warning.\n",
      "  FutureWarning)\n",
      "C:\\Users\\Rogue\\Anaconda3\\envs\\PythonData2019\\lib\\site-packages\\sklearn\\linear_model\\logistic.py:469: FutureWarning: Default multi_class will be changed to 'auto' in 0.22. Specify the multi_class option to silence this warning.\n",
      "  \"this warning.\", FutureWarning)\n"
     ]
    },
    {
     "data": {
      "text/plain": [
       "LogisticRegression(C=1.0, class_weight=None, dual=False, fit_intercept=True,\n",
       "                   intercept_scaling=1, l1_ratio=None, max_iter=100,\n",
       "                   multi_class='warn', n_jobs=None, penalty='l2',\n",
       "                   random_state=None, solver='warn', tol=0.0001, verbose=0,\n",
       "                   warm_start=False)"
      ]
     },
     "execution_count": 8,
     "metadata": {},
     "output_type": "execute_result"
    }
   ],
   "source": [
    "classifier.fit(X_train_scaled,y_train)"
   ]
  },
  {
   "cell_type": "markdown",
   "metadata": {
    "slideshow": {
     "slide_type": "subslide"
    }
   },
   "source": [
    "Validate the model using the test data"
   ]
  },
  {
   "cell_type": "code",
   "execution_count": 9,
   "metadata": {
    "nbgrader": {
     "grade": false,
     "grade_id": "cell-b00f331fda900e0a",
     "locked": false,
     "schema_version": 1,
     "solution": true
    },
    "slideshow": {
     "slide_type": "fragment"
    }
   },
   "outputs": [
    {
     "name": "stdout",
     "output_type": "stream",
     "text": [
      "Training Data Score: 0.863080684596577\n",
      "Testing Data Score: 0.8029197080291971\n"
     ]
    }
   ],
   "source": [
    "print(f\"Training Data Score: {classifier.score(X_train_scaled, y_train)}\")\n",
    "print(f\"Testing Data Score: {classifier.score(X_test_scaled, y_test)}\")"
   ]
  },
  {
   "cell_type": "markdown",
   "metadata": {
    "slideshow": {
     "slide_type": "subslide"
    }
   },
   "source": [
    "Make predictions"
   ]
  },
  {
   "cell_type": "code",
   "execution_count": 10,
   "metadata": {
    "nbgrader": {
     "grade": false,
     "grade_id": "cell-f97eb3e97245187b",
     "locked": false,
     "schema_version": 1,
     "solution": true
    },
    "slideshow": {
     "slide_type": "fragment"
    }
   },
   "outputs": [
    {
     "name": "stdout",
     "output_type": "stream",
     "text": [
      "First 10 Predictions:   ['Increase' 'Increase' 'Increase' 'Increase' 'Increase' 'Increase'\n",
      " 'Increase' 'Increase' 'Increase' 'Increase']\n",
      "First 10 Actual labels: ['Increase', 'Increase', 'Increase', 'Increase', 'Increase', 'Increase', 'Increase', 'Decrease', 'Decrease', 'Increase']\n"
     ]
    }
   ],
   "source": [
    "predictions = classifier.predict(X_test)\n",
    "print(f\"First 10 Predictions:   {predictions[:10]}\")\n",
    "print(f\"First 10 Actual labels: {y_test[:10].tolist()}\")"
   ]
  },
  {
   "cell_type": "code",
   "execution_count": 11,
   "metadata": {},
   "outputs": [],
   "source": [
    "# pd.DataFrame({\"Prediction\": predictions, \"Actual\": y_test}).reset_index(drop=True)"
   ]
  },
  {
   "cell_type": "code",
   "execution_count": 12,
   "metadata": {},
   "outputs": [],
   "source": [
    "final = pd.DataFrame({\"Prediction\": predictions, \"Actual\": y_test}).reset_index(drop=True)"
   ]
  },
  {
   "cell_type": "code",
   "execution_count": 13,
   "metadata": {},
   "outputs": [
    {
     "data": {
      "text/plain": [
       "137"
      ]
     },
     "execution_count": 13,
     "metadata": {},
     "output_type": "execute_result"
    }
   ],
   "source": [
    "# Total rows for the final data\n",
    "len(final)"
   ]
  },
  {
   "cell_type": "code",
   "execution_count": 14,
   "metadata": {},
   "outputs": [],
   "source": [
    "final.to_csv('final.csv')"
   ]
  },
  {
   "cell_type": "code",
   "execution_count": 15,
   "metadata": {},
   "outputs": [
    {
     "name": "stdout",
     "output_type": "stream",
     "text": [
      "First 10 Predictions:   ['Increase' 'Increase' 'Increase' 'Increase' 'Increase' 'Increase'\n",
      " 'Increase' 'Increase' 'Increase' 'Increase' 'Increase' 'Increase'\n",
      " 'Increase' 'Increase' 'Increase' 'Increase' 'Increase' 'Increase'\n",
      " 'Increase' 'Increase' 'Increase' 'Increase' 'Increase' 'Increase'\n",
      " 'Increase' 'Increase' 'Increase' 'Increase' 'Increase' 'Increase'\n",
      " 'Increase' 'Increase' 'Increase' 'Increase' 'Increase' 'Increase'\n",
      " 'Increase' 'Increase' 'Increase' 'Increase' 'Increase' 'Increase'\n",
      " 'Increase' 'Increase' 'Increase' 'Increase' 'Increase' 'Increase'\n",
      " 'Increase' 'Increase' 'Increase' 'Increase' 'Increase' 'Increase'\n",
      " 'Increase' 'Increase' 'Increase' 'Increase' 'Increase' 'Increase'\n",
      " 'Increase' 'Increase' 'Increase' 'Increase' 'Increase' 'Increase'\n",
      " 'Increase' 'Increase' 'Increase' 'Increase' 'Increase' 'Increase'\n",
      " 'Increase' 'Increase' 'Increase' 'Increase' 'Increase' 'Increase'\n",
      " 'Increase' 'Increase' 'Increase' 'Increase' 'Increase' 'Increase'\n",
      " 'Increase' 'Increase' 'Increase' 'Increase' 'Increase' 'Increase'\n",
      " 'Increase' 'Increase' 'Increase' 'Increase' 'Increase' 'Increase'\n",
      " 'Increase' 'Increase' 'Increase' 'Increase']\n",
      "First 10 Actual labels: ['Increase', 'Increase', 'Increase', 'Increase', 'Increase', 'Increase', 'Increase', 'Increase', 'Decrease', 'Increase', 'Increase', 'Increase', 'Increase', 'Increase', 'Decrease', 'Increase', 'Increase', 'Increase', 'NotApplicable', 'Increase', 'NotApplicable', 'Increase', 'Increase', 'Increase', 'Decrease', 'Increase', 'Increase', 'Increase', 'Decrease', 'Decrease', 'NotApplicable', 'Increase', 'Decrease', 'NotApplicable', 'Decrease', 'Increase', 'Increase', 'Increase', 'Increase', 'Increase', 'Increase', 'NotApplicable', 'Increase', 'Increase', 'Increase', 'Increase', 'Increase', 'Decrease', 'Increase', 'Increase', 'Increase', 'Increase', 'Increase', 'Increase', 'Increase', 'Increase', 'Increase', 'Increase', 'Increase', 'Increase', 'Decrease', 'Increase', 'Decrease', 'Decrease', 'Increase', 'Increase', 'NotApplicable', 'NotApplicable', 'Increase', 'Increase', 'Increase', 'Increase', 'Increase', 'Increase', 'Increase', 'Increase', 'NotApplicable', 'Increase', 'NotApplicable', 'Decrease', 'Increase', 'Increase', 'Increase', 'Increase', 'Increase', 'Increase', 'Decrease', 'Increase', 'Increase', 'Increase', 'Decrease', 'Decrease', 'NotApplicable', 'Increase', 'Increase', 'Increase', 'Increase', 'Increase', 'Increase', 'Decrease']\n"
     ]
    }
   ],
   "source": [
    "predictions_train = classifier.predict(X_train)\n",
    "print(f\"First 10 Predictions:   {predictions_train[:100]}\")\n",
    "print(f\"First 10 Actual labels: {y_train[:100].tolist()}\")"
   ]
  },
  {
   "cell_type": "code",
   "execution_count": null,
   "metadata": {},
   "outputs": [],
   "source": []
  }
 ],
 "metadata": {
  "kernelspec": {
   "display_name": "Python 3",
   "language": "python",
   "name": "python3"
  },
  "language_info": {
   "codemirror_mode": {
    "name": "ipython",
    "version": 3
   },
   "file_extension": ".py",
   "mimetype": "text/x-python",
   "name": "python",
   "nbconvert_exporter": "python",
   "pygments_lexer": "ipython3",
   "version": "3.6.9"
  },
  "varInspector": {
   "cols": {
    "lenName": 16,
    "lenType": 16,
    "lenVar": 40
   },
   "kernels_config": {
    "python": {
     "delete_cmd_postfix": "",
     "delete_cmd_prefix": "del ",
     "library": "var_list.py",
     "varRefreshCmd": "print(var_dic_list())"
    },
    "r": {
     "delete_cmd_postfix": ") ",
     "delete_cmd_prefix": "rm(",
     "library": "var_list.r",
     "varRefreshCmd": "cat(var_dic_list()) "
    }
   },
   "types_to_exclude": [
    "module",
    "function",
    "builtin_function_or_method",
    "instance",
    "_Feature"
   ],
   "window_display": false
  }
 },
 "nbformat": 4,
 "nbformat_minor": 2
}
